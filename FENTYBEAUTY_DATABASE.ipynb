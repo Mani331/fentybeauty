{
 "cells": [
  {
   "cell_type": "code",
   "execution_count": 1,
   "metadata": {},
   "outputs": [],
   "source": [
    "import pandas as pd"
   ]
  },
  {
   "cell_type": "code",
   "execution_count": 2,
   "metadata": {},
   "outputs": [],
   "source": [
    "df2 = pd.read_csv(r'C:\\Users\\amnad\\Documents\\DATA_IA\\PYTHON\\NLP\\NLP PROJET_FENTY\\FENTYBEAUTY_PROFILTR1.csv')\n",
    "df2 = df2.drop(columns = \"Unnamed: 0\")"
   ]
  },
  {
   "cell_type": "code",
   "execution_count": 3,
   "metadata": {},
   "outputs": [
    {
     "data": {
      "text/html": [
       "<div>\n",
       "<style scoped>\n",
       "    .dataframe tbody tr th:only-of-type {\n",
       "        vertical-align: middle;\n",
       "    }\n",
       "\n",
       "    .dataframe tbody tr th {\n",
       "        vertical-align: top;\n",
       "    }\n",
       "\n",
       "    .dataframe thead th {\n",
       "        text-align: right;\n",
       "    }\n",
       "</style>\n",
       "<table border=\"1\" class=\"dataframe\">\n",
       "  <thead>\n",
       "    <tr style=\"text-align: right;\">\n",
       "      <th></th>\n",
       "      <th>review</th>\n",
       "      <th>ratings</th>\n",
       "    </tr>\n",
       "  </thead>\n",
       "  <tbody>\n",
       "    <tr>\n",
       "      <th>3648</th>\n",
       "      <td>I bought this foundation as soon as sephora op...</td>\n",
       "      <td>10</td>\n",
       "    </tr>\n",
       "    <tr>\n",
       "      <th>3649</th>\n",
       "      <td>Flawless on my skin! I am already in awe with ...</td>\n",
       "      <td>10</td>\n",
       "    </tr>\n",
       "    <tr>\n",
       "      <th>3650</th>\n",
       "      <td>This product is available is so many shades, a...</td>\n",
       "      <td>10</td>\n",
       "    </tr>\n",
       "    <tr>\n",
       "      <th>3651</th>\n",
       "      <td>I just bought so many products from this line ...</td>\n",
       "      <td>10</td>\n",
       "    </tr>\n",
       "    <tr>\n",
       "      <th>3652</th>\n",
       "      <td>Has a great blurring effect. It blends so nice...</td>\n",
       "      <td>10</td>\n",
       "    </tr>\n",
       "  </tbody>\n",
       "</table>\n",
       "</div>"
      ],
      "text/plain": [
       "                                                 review  ratings\n",
       "3648  I bought this foundation as soon as sephora op...       10\n",
       "3649  Flawless on my skin! I am already in awe with ...       10\n",
       "3650  This product is available is so many shades, a...       10\n",
       "3651  I just bought so many products from this line ...       10\n",
       "3652  Has a great blurring effect. It blends so nice...       10"
      ]
     },
     "execution_count": 3,
     "metadata": {},
     "output_type": "execute_result"
    }
   ],
   "source": [
    "df2.tail()"
   ]
  },
  {
   "cell_type": "code",
   "execution_count": 4,
   "metadata": {},
   "outputs": [],
   "source": [
    "df2 = df2.reset_index()"
   ]
  },
  {
   "cell_type": "code",
   "execution_count": 5,
   "metadata": {},
   "outputs": [],
   "source": [
    "df2 = df2.rename({'index' : 'id'})"
   ]
  },
  {
   "cell_type": "code",
   "execution_count": 6,
   "metadata": {
    "scrolled": true
   },
   "outputs": [
    {
     "data": {
      "text/html": [
       "<div>\n",
       "<style scoped>\n",
       "    .dataframe tbody tr th:only-of-type {\n",
       "        vertical-align: middle;\n",
       "    }\n",
       "\n",
       "    .dataframe tbody tr th {\n",
       "        vertical-align: top;\n",
       "    }\n",
       "\n",
       "    .dataframe thead th {\n",
       "        text-align: right;\n",
       "    }\n",
       "</style>\n",
       "<table border=\"1\" class=\"dataframe\">\n",
       "  <thead>\n",
       "    <tr style=\"text-align: right;\">\n",
       "      <th></th>\n",
       "      <th>index</th>\n",
       "      <th>review</th>\n",
       "      <th>ratings</th>\n",
       "    </tr>\n",
       "  </thead>\n",
       "  <tbody>\n",
       "    <tr>\n",
       "      <th>0</th>\n",
       "      <td>0</td>\n",
       "      <td>This foundation is just perfect! I love the co...</td>\n",
       "      <td>10</td>\n",
       "    </tr>\n",
       "    <tr>\n",
       "      <th>1</th>\n",
       "      <td>1</td>\n",
       "      <td>I have been using Clinique for years, but they...</td>\n",
       "      <td>10</td>\n",
       "    </tr>\n",
       "    <tr>\n",
       "      <th>2</th>\n",
       "      <td>2</td>\n",
       "      <td>I bought my Fenty makeup about a month ago and...</td>\n",
       "      <td>10</td>\n",
       "    </tr>\n",
       "    <tr>\n",
       "      <th>3</th>\n",
       "      <td>3</td>\n",
       "      <td>I like my foundation so much Thanks Fenty krrr...</td>\n",
       "      <td>10</td>\n",
       "    </tr>\n",
       "    <tr>\n",
       "      <th>4</th>\n",
       "      <td>4</td>\n",
       "      <td>My purchase of the Fenty foundation and blotte...</td>\n",
       "      <td>4</td>\n",
       "    </tr>\n",
       "  </tbody>\n",
       "</table>\n",
       "</div>"
      ],
      "text/plain": [
       "   index                                             review  ratings\n",
       "0      0  This foundation is just perfect! I love the co...       10\n",
       "1      1  I have been using Clinique for years, but they...       10\n",
       "2      2  I bought my Fenty makeup about a month ago and...       10\n",
       "3      3  I like my foundation so much Thanks Fenty krrr...       10\n",
       "4      4  My purchase of the Fenty foundation and blotte...        4"
      ]
     },
     "execution_count": 6,
     "metadata": {},
     "output_type": "execute_result"
    }
   ],
   "source": [
    "df2.head()"
   ]
  },
  {
   "cell_type": "markdown",
   "metadata": {},
   "source": [
    "____"
   ]
  },
  {
   "cell_type": "code",
   "execution_count": 7,
   "metadata": {},
   "outputs": [],
   "source": [
    "import MySQLdb"
   ]
  },
  {
   "cell_type": "code",
   "execution_count": 8,
   "metadata": {},
   "outputs": [],
   "source": [
    "fentybeauty = MySQLdb.connect(host = \"localhost\",    # your host, usually localhost\n",
    "                            user = \"root\",\n",
    "                            password = 'Armani313.',\n",
    "                            use_unicode=True,\n",
    "                            charset=\"utf8\") #updating db if already exists"
   ]
  },
  {
   "cell_type": "code",
   "execution_count": 9,
   "metadata": {},
   "outputs": [],
   "source": [
    "# you must create a Cursor object. It will let\n",
    "# you execute all the queries you need\n",
    "mycursor = fentybeauty.cursor()"
   ]
  },
  {
   "cell_type": "code",
   "execution_count": 10,
   "metadata": {},
   "outputs": [
    {
     "data": {
      "text/plain": [
       "1"
      ]
     },
     "execution_count": 10,
     "metadata": {},
     "output_type": "execute_result"
    }
   ],
   "source": [
    "mycursor.execute(\"DROP DATABASE IF EXISTS fentybeauty\")\n",
    "mycursor.execute(\"CREATE DATABASE fentybeauty\")"
   ]
  },
  {
   "cell_type": "code",
   "execution_count": 11,
   "metadata": {},
   "outputs": [
    {
     "data": {
      "text/plain": [
       "0"
      ]
     },
     "execution_count": 11,
     "metadata": {},
     "output_type": "execute_result"
    }
   ],
   "source": [
    "mycursor.execute(\"USE fentybeauty\")"
   ]
  },
  {
   "cell_type": "code",
   "execution_count": 12,
   "metadata": {},
   "outputs": [
    {
     "data": {
      "text/plain": [
       "0"
      ]
     },
     "execution_count": 12,
     "metadata": {},
     "output_type": "execute_result"
    }
   ],
   "source": [
    "mycursor.execute(\"CREATE TABLE profiltr (id SMALLINT UNSIGNED NOT NULL AUTO_INCREMENT, review TEXT, ratings INT, PRIMARY KEY (id))\")"
   ]
  },
  {
   "cell_type": "code",
   "execution_count": 13,
   "metadata": {
    "scrolled": true
   },
   "outputs": [
    {
     "data": {
      "text/plain": [
       "1"
      ]
     },
     "execution_count": 13,
     "metadata": {},
     "output_type": "execute_result"
    }
   ],
   "source": [
    "mycursor.execute(\"SHOW TABLES;\")"
   ]
  },
  {
   "cell_type": "code",
   "execution_count": 14,
   "metadata": {},
   "outputs": [
    {
     "data": {
      "text/plain": [
       "(('id', 'smallint(5) unsigned', 'NO', 'PRI', None, 'auto_increment'),\n",
       " ('review', 'text', 'YES', '', None, ''),\n",
       " ('ratings', 'int(11)', 'YES', '', None, ''))"
      ]
     },
     "execution_count": 14,
     "metadata": {},
     "output_type": "execute_result"
    }
   ],
   "source": [
    "mycursor.execute(\"DESCRIBE profiltr\")\n",
    "mycursor.fetchall()"
   ]
  },
  {
   "cell_type": "code",
   "execution_count": 15,
   "metadata": {},
   "outputs": [],
   "source": [
    "df2 = df2.drop(columns = \"index\")"
   ]
  },
  {
   "cell_type": "code",
   "execution_count": 16,
   "metadata": {},
   "outputs": [
    {
     "data": {
      "text/plain": [
       "['I have been using Clinique for years, but they changed their formula recently, so I went on the hunt for a foundation for my extremely sensitive skin. I’ve definitely found it! I love all the shades offered, it blends great, and it has not caused any sort of breakout. (Like I said....extremely sensitive skin here!) I’ll definitely be buying more Fenty in the future!',\n",
       " 10]"
      ]
     },
     "execution_count": 16,
     "metadata": {},
     "output_type": "execute_result"
    }
   ],
   "source": [
    "df2_ = df2.values.tolist()\n",
    "df2_[1]"
   ]
  },
  {
   "cell_type": "code",
   "execution_count": 17,
   "metadata": {},
   "outputs": [],
   "source": [
    "mycursor.executemany(\"\"\"INSERT INTO profiltr(review, ratings) VALUES (%s, %s)\"\"\", df2_)\n",
    "fentybeauty.commit()"
   ]
  },
  {
   "cell_type": "code",
   "execution_count": 18,
   "metadata": {},
   "outputs": [
    {
     "data": {
      "text/plain": [
       "10"
      ]
     },
     "execution_count": 18,
     "metadata": {},
     "output_type": "execute_result"
    }
   ],
   "source": [
    "mycursor.execute(\"SELECT * FROM profiltr LIMIT 10\")"
   ]
  },
  {
   "cell_type": "code",
   "execution_count": 19,
   "metadata": {
    "scrolled": false
   },
   "outputs": [
    {
     "name": "stdout",
     "output_type": "stream",
     "text": [
      "(1, 'This foundation is just perfect! I love the coverage, the finish, the color, everything! I have tried others but I keep coming back to this one.', 10)\n",
      "(2, 'I have been using Clinique for years, but they changed their formula recently, so I went on the hunt for a foundation for my extremely sensitive skin. I’ve definitely found it! I love all the shades offered, it blends great, and it has not caused any sort of breakout. (Like I said....extremely sensitive skin here!) I’ll definitely be buying more Fenty in the future!', 10)\n",
      "(3, 'I bought my Fenty makeup about a month ago and I just love it', 10)\n",
      "(4, 'I like my foundation so much Thanks Fenty krrrrrrrrr', 10)\n",
      "(5, 'My purchase of the Fenty foundation and blotter did not arrive the first time. Customer service was exceptional to get it out to me a second time. Within one week of use, my skin broke out. Badly. It was somewhat oily after a couple hours. The blotter compact absorbed the shine but yielding my skin more of a pale white than my natural vibrant color. The blotter is a great idea if the makeup you use is going to give a shine or make your skin oily. Minus the break out after the first use, it’s ok for an event I guess. I wouldn’t use for daily wear. Not for myself. I went back to my Estée Lauder.', 4)\n",
      "(6, 'I have tried so many foundations and this one is perfect for my skin but I do feel that the Fenty primer and foundation match better together better than trying to use any other primer with this foundation', 10)\n",
      "(7, \"I love this product it was my first time trying it and I'm glad I did. It melts onto your skin like butter and blends in so quick and easily. I'm not a person who knows how to apply makeup very well but this is so smooth it's easy.\", 10)\n",
      "(8, 'Used Mac for the past 15 years then I tried Fenty. My makeup stays on all day, no nasty creases at the end of the day omg amazing!!!!!', 10)\n",
      "(9, 'Have been using this for about 8 months now and I am glad I switch cause i finally found a foundation that matches my skin perfectly instead of mixing 2 different shades to match!', 8)\n",
      "(10, 'I’m very very fair, and bought one of the lightest shades. I don’t think this product was targeted for girls with lighter skin because it just looks so bad on me. It doesn’t blend, it’s so drying, it’s splotchy, so thick, AND DRIES SO FAST. You have to put the foundation on little spots and blend so fast or else you won’t be able to work with it at all.', 2)\n"
     ]
    }
   ],
   "source": [
    "for tb in mycursor:\n",
    "    print(tb)"
   ]
  },
  {
   "cell_type": "code",
   "execution_count": null,
   "metadata": {},
   "outputs": [],
   "source": [
    "#SELECT * FROM profiltr limit 10 \\G;"
   ]
  },
  {
   "cell_type": "markdown",
   "metadata": {},
   "source": [
    "___________"
   ]
  },
  {
   "cell_type": "markdown",
   "metadata": {},
   "source": [
    "Exercice 1 : Insérer en SQL directement (sans passer par python) un  faux commentaire dans votre table commentaire\n",
    "Exercice 2 : Insérer dans votre table commentaire un faux commentaire via Python (sans utiliser pandas.to_sql). \n",
    "Exercice 3: Faire une fonction qui prend en argument une liste de commentaire et qui les insère tous dans la base. "
   ]
  },
  {
   "cell_type": "code",
   "execution_count": 22,
   "metadata": {},
   "outputs": [
    {
     "data": {
      "text/plain": [
       "((3653,),)"
      ]
     },
     "execution_count": 22,
     "metadata": {},
     "output_type": "execute_result"
    }
   ],
   "source": [
    "mycursor.execute('SELECT COUNT(*) FROM profiltr')\n",
    "mycursor.fetchall()"
   ]
  },
  {
   "cell_type": "code",
   "execution_count": 24,
   "metadata": {},
   "outputs": [],
   "source": [
    "mycursor.execute(\"\"\"INSERT INTO profiltr(review, ratings) VALUES ('Loved it', 10)\"\"\")\n",
    "fentybeauty.commit()"
   ]
  },
  {
   "cell_type": "code",
   "execution_count": 25,
   "metadata": {},
   "outputs": [
    {
     "data": {
      "text/plain": [
       "((3654,),)"
      ]
     },
     "execution_count": 25,
     "metadata": {},
     "output_type": "execute_result"
    }
   ],
   "source": [
    "mycursor.execute('SELECT COUNT(*) FROM profiltr')\n",
    "mycursor.fetchall()"
   ]
  },
  {
   "cell_type": "markdown",
   "metadata": {},
   "source": [
    "________"
   ]
  },
  {
   "cell_type": "code",
   "execution_count": 58,
   "metadata": {},
   "outputs": [],
   "source": [
    "l = [['This foundation is just perfect! I love the coverage, the finish, the color, everything! I have tried others but I keep coming back to this one.',\n",
    "  10],\n",
    " ['I have been using Clinique for years, but they changed their formula recently, so I went on the hunt for a foundation for my extremely sensitive skin. I’ve definitely found it! I love all the shades offered, it blends great, and it has not caused any sort of breakout. (Like I said....extremely sensitive skin here!) I’ll definitely be buying more Fenty in the future!',\n",
    "  10],\n",
    " ['I bought my Fenty makeup about a month ago and I just love it', 10],\n",
    " ['I like my foundation so much Thanks Fenty krrrrrrrrr', 10]]"
   ]
  },
  {
   "cell_type": "code",
   "execution_count": 64,
   "metadata": {},
   "outputs": [],
   "source": [
    "def listintodata(liste):\n",
    "    for i in liste:\n",
    "        mycursor.executemany(\"\"\"INSERT INTO profiltr(review, ratings) VALUES (%s, %s)\"\"\", liste)\n",
    "        fentybeauty.commit()\n",
    "        print(i)"
   ]
  },
  {
   "cell_type": "code",
   "execution_count": 65,
   "metadata": {},
   "outputs": [
    {
     "name": "stdout",
     "output_type": "stream",
     "text": [
      "['This foundation is just perfect! I love the coverage, the finish, the color, everything! I have tried others but I keep coming back to this one.', 10]\n",
      "['I have been using Clinique for years, but they changed their formula recently, so I went on the hunt for a foundation for my extremely sensitive skin. I’ve definitely found it! I love all the shades offered, it blends great, and it has not caused any sort of breakout. (Like I said....extremely sensitive skin here!) I’ll definitely be buying more Fenty in the future!', 10]\n",
      "['I bought my Fenty makeup about a month ago and I just love it', 10]\n",
      "['I like my foundation so much Thanks Fenty krrrrrrrrr', 10]\n"
     ]
    }
   ],
   "source": [
    "listintodata(l)"
   ]
  },
  {
   "cell_type": "markdown",
   "metadata": {},
   "source": [
    "_____"
   ]
  },
  {
   "cell_type": "raw",
   "metadata": {},
   "source": [
    "“true positive” for correctly predicted postive values.\n",
    "“false positive” for incorrectly predicted prositive values.\n",
    "“true negative” for correctly predicted negative values.\n",
    "“false negative” for incorrectly predicted negative values."
   ]
  },
  {
   "cell_type": "code",
   "execution_count": null,
   "metadata": {},
   "outputs": [],
   "source": [
    "Accuracy:items classified correctly\\all items classified*"
   ]
  },
  {
   "cell_type": "code",
   "execution_count": null,
   "metadata": {},
   "outputs": [],
   "source": [
    "Accuracy = (TP + FN) / Total Pred"
   ]
  },
  {
   "cell_type": "code",
   "execution_count": 64,
   "metadata": {},
   "outputs": [],
   "source": [
    "def accuracy(true, pred):\n",
    "    matching = [i for i, j in zip(true, pred) if i == j]\n",
    "    return len(matching) / len(pred)"
   ]
  },
  {
   "cell_type": "code",
   "execution_count": 65,
   "metadata": {},
   "outputs": [
    {
     "data": {
      "text/plain": [
       "0.6"
      ]
     },
     "execution_count": 65,
     "metadata": {},
     "output_type": "execute_result"
    }
   ],
   "source": [
    "accuracy(y_true, y_pred)"
   ]
  },
  {
   "cell_type": "code",
   "execution_count": 41,
   "metadata": {},
   "outputs": [],
   "source": [
    "from sklearn.metrics import accuracy_score, precision_score"
   ]
  },
  {
   "cell_type": "code",
   "execution_count": 40,
   "metadata": {},
   "outputs": [
    {
     "data": {
      "text/plain": [
       "0.6"
      ]
     },
     "execution_count": 40,
     "metadata": {},
     "output_type": "execute_result"
    }
   ],
   "source": [
    "accuracy_score(y_true, y_pred)"
   ]
  },
  {
   "cell_type": "code",
   "execution_count": 1,
   "metadata": {},
   "outputs": [],
   "source": [
    "y_true = [1, 0, 0, 1, 0]\n",
    "y_pred = [1, 0, 1, 0, 0]"
   ]
  },
  {
   "cell_type": "markdown",
   "metadata": {},
   "source": [
    "**Coder une fonction qui calcule le nombre de True positif en fonction de y et y_pred**"
   ]
  },
  {
   "cell_type": "code",
   "execution_count": 6,
   "metadata": {},
   "outputs": [],
   "source": [
    "def truepositive(y, y_pred):\n",
    "    matching = [i for i, j in zip(y, y_pred) if i == j]\n",
    "    TP = []\n",
    "    for i in matching:\n",
    "        if i == 1:\n",
    "            TP.append(i)\n",
    "    return len(TP)"
   ]
  },
  {
   "cell_type": "code",
   "execution_count": 5,
   "metadata": {},
   "outputs": [
    {
     "name": "stdout",
     "output_type": "stream",
     "text": [
      "[1, 0, 0]\n"
     ]
    },
    {
     "data": {
      "text/plain": [
       "1"
      ]
     },
     "execution_count": 5,
     "metadata": {},
     "output_type": "execute_result"
    }
   ],
   "source": [
    "truepositive(y_true, y_pred)"
   ]
  },
  {
   "cell_type": "markdown",
   "metadata": {},
   "source": [
    "Precision :\n",
    "It is the number of correct positive results divided by the number of positive results predicted by the classifier."
   ]
  },
  {
   "cell_type": "code",
   "execution_count": 71,
   "metadata": {},
   "outputs": [],
   "source": [
    "Precision : TP / (TP + FP)"
   ]
  },
  {
   "cell_type": "code",
   "execution_count": 84,
   "metadata": {},
   "outputs": [],
   "source": [
    "def precision(true, pred):\n",
    "    \n",
    "    matching = [i for i, j in zip(true, pred) if i == j]\n",
    "    TP = []\n",
    "\n",
    "    for i in matching:\n",
    "        if i == 1:\n",
    "            TP.append(i)\n",
    "    FP = TP[TP == 1]\n",
    "    return len(TP) / (len(TP) + FP)"
   ]
  },
  {
   "cell_type": "code",
   "execution_count": 85,
   "metadata": {},
   "outputs": [
    {
     "data": {
      "text/plain": [
       "0.5"
      ]
     },
     "execution_count": 85,
     "metadata": {},
     "output_type": "execute_result"
    }
   ],
   "source": [
    "precision(y_true, y_pred)"
   ]
  },
  {
   "cell_type": "code",
   "execution_count": 49,
   "metadata": {
    "scrolled": true
   },
   "outputs": [
    {
     "data": {
      "text/plain": [
       "0.5"
      ]
     },
     "execution_count": 49,
     "metadata": {},
     "output_type": "execute_result"
    }
   ],
   "source": [
    "precision_score(y_true, y_pred)"
   ]
  },
  {
   "cell_type": "code",
   "execution_count": null,
   "metadata": {},
   "outputs": [],
   "source": [
    "def rec_detremaint(A, total = 0):\n",
    "    ind = list(range(len(A)))\n",
    "    if len(A) == 2 and len(A[0] == 2):\n",
    "        return A[0][0]A[1][1]-A[0][1]A[1][0]\n",
    "    for fc in ind:\n",
    "        As = A.copy()\n",
    "        As[1:]\n",
    "        hight=len(As)\n",
    "    for i in range(len(As)):\n",
    "        As[i]=As[i][0:fc]+As[i][fc+1:]\n",
    "        sign=(-1)*(fc%2)\n",
    "        sub_det=rec_detremaint(As)\n",
    "        total+=signA[0][fc]*sub_det\n",
    "        return total"
   ]
  }
 ],
 "metadata": {
  "kernelspec": {
   "display_name": "Python 3",
   "language": "python",
   "name": "python3"
  },
  "language_info": {
   "codemirror_mode": {
    "name": "ipython",
    "version": 3
   },
   "file_extension": ".py",
   "mimetype": "text/x-python",
   "name": "python",
   "nbconvert_exporter": "python",
   "pygments_lexer": "ipython3",
   "version": "3.7.2"
  }
 },
 "nbformat": 4,
 "nbformat_minor": 2
}
